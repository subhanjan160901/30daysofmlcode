{
 "cells": [
  {
   "cell_type": "code",
   "execution_count": 2,
   "metadata": {},
   "outputs": [],
   "source": [
    "import cv2\n",
    "import numpy as np\n",
    "\n",
    "\n",
    "#############\n",
    "##FUNCTION###\n",
    "#############\n",
    "\n",
    "def draw_circle(event,x,y,flags,params):\n",
    "    if event == cv2.EVENT_LBUTTONDOWN :\n",
    "        cv2.circle(img,(x,y),100,(255,0,0), -1)\n",
    "\n",
    "\n",
    "\n",
    "##############################\n",
    "##SHOWING IMAGE WITH OPENCV###\n",
    "##############################\n",
    "\n",
    "\n",
    "img = np.zeros(shape=(512,512,3))\n",
    "\n",
    "cv2.namedWindow('my_drawing', cv2.WINDOW_NORMAL)\n",
    "\n",
    "cv2.setMouseCallback('my_drawing', draw_circle)\n",
    "\n",
    "\n",
    "while True:\n",
    "    cv2.imshow('my_drawing',img)\n",
    "    \n",
    "    if cv2.waitKey(20) & 0xFF==27:\n",
    "        break\n",
    "        \n",
    "cv2.destroyAllWindows()\n",
    "        "
   ]
  },
  {
   "cell_type": "markdown",
   "metadata": {},
   "source": [
    "**1. There is a special case where you can already create a window and load image to it later. In that case, you can specify whether window is resizable or not. It is done with the function _cv2.namedWindow()_. By default, the flag is cv2.WINDOW_AUTOSIZE. But if you specify flag to be cv2.WINDOW_NORMAL, you can resize window. It will be helpful when image is too large in dimension and adding track bar to windows.**"
   ]
  },
  {
   "cell_type": "markdown",
   "metadata": {},
   "source": [
    "**2. In the function draw_circle : event is the type of action that the mouse did, e.g., left-click, right-click etc\n",
    "; x,y is the position of the mouse at which the fucntion is to be executed.**"
   ]
  },
  {
   "cell_type": "code",
   "execution_count": null,
   "metadata": {},
   "outputs": [],
   "source": []
  },
  {
   "cell_type": "code",
   "execution_count": null,
   "metadata": {},
   "outputs": [],
   "source": []
  },
  {
   "cell_type": "code",
   "execution_count": null,
   "metadata": {},
   "outputs": [],
   "source": []
  },
  {
   "cell_type": "code",
   "execution_count": 3,
   "metadata": {},
   "outputs": [],
   "source": [
    "import cv2\n",
    "import numpy as np\n",
    "\n",
    "\n",
    "##VARIABLES\n",
    "\n",
    "drawing = False\n",
    "ix = -1\n",
    "iy = -1\n",
    "\n",
    "\n",
    "## FUNCTION\n",
    "def draw_rectangle(event, x, y, flags, params):\n",
    "    \n",
    "    global ix, iy, drawing\n",
    "    \n",
    "    if event == cv2.EVENT_LBUTTONDOWN :\n",
    "        drawing = True\n",
    "        ix, iy = x, y\n",
    "        \n",
    "    elif event == cv2.EVENT_MOUSEMOVE :\n",
    "        if drawing == True :\n",
    "            cv2.rectangle (img, (ix,iy), (x,y), (0,255,0), -1)\n",
    "    \n",
    "    elif event == cv2.EVENT_LBUTTONUP:\n",
    "        drawing = False\n",
    "        cv2.rectangle (img, (ix,iy), (x,y), (0,255,0), -1)\n",
    "        \n",
    "        \n",
    "        \n",
    "        \n",
    "\n",
    "##SHOWING THE IMAGE\n",
    "\n",
    "img = np.zeros(shape=(512,512,3))\n",
    "\n",
    "cv2.namedWindow(\"my_drawing\", cv2.WINDOW_NORMAL)\n",
    "\n",
    "cv2.setMouseCallback(\"my_drawing\", draw_rectangle)\n",
    "\n",
    "while True:\n",
    "    cv2.imshow(\"my_drawing\", img)\n",
    "    if cv2.waitKey(20) & 0xFF==27:\n",
    "        break\n",
    "    \n",
    "cv2.destroyAllWindows()\n",
    "    \n",
    "        \n",
    "    "
   ]
  },
  {
   "cell_type": "code",
   "execution_count": null,
   "metadata": {},
   "outputs": [],
   "source": []
  }
 ],
 "metadata": {
  "kernelspec": {
   "display_name": "Python 3",
   "language": "python",
   "name": "python3"
  },
  "language_info": {
   "codemirror_mode": {
    "name": "ipython",
    "version": 3
   },
   "file_extension": ".py",
   "mimetype": "text/x-python",
   "name": "python",
   "nbconvert_exporter": "python",
   "pygments_lexer": "ipython3",
   "version": "3.7.3"
  }
 },
 "nbformat": 4,
 "nbformat_minor": 2
}
